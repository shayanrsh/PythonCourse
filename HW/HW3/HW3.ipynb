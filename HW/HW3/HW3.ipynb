{
 "cells": [
  {
   "cell_type": "markdown",
   "metadata": {
    "_cell_guid": "4feb34b5-0626-43de-8dc8-ae71073b5501",
    "_uuid": "6fb654983cffed04322cd2845cf71fd34331db26"
   },
   "source": [
    "# Advance Data Analysis in Python - Homework 3\n",
    "### Shayan Rahimi Shahmirzadi - Student ID: 0080986"
   ]
  },
  {
   "cell_type": "code",
   "execution_count": 67,
   "metadata": {
    "_cell_guid": "7ee6031d-8cd8-4032-bbe6-610d7a766739",
    "_uuid": "0db70516824bb855c9d967bcff89640c981107b2"
   },
   "outputs": [],
   "source": [
    "import warnings\n",
    "\n",
    "import matplotlib.pyplot as plt\n",
    "import numpy as np\n",
    "import pandas as pd\n",
    "import seaborn as sns\n",
    "from sklearn import preprocessing\n",
    "from sklearn.discriminant_analysis import LinearDiscriminantAnalysis, QuadraticDiscriminantAnalysis\n",
    "from sklearn.ensemble import RandomForestClassifier\n",
    "from sklearn.feature_selection import SelectKBest\n",
    "from sklearn.feature_selection import chi2\n",
    "from sklearn.linear_model import LogisticRegression\n",
    "from sklearn.model_selection import GridSearchCV\n",
    "from sklearn.model_selection import ShuffleSplit\n",
    "from sklearn.model_selection import cross_val_score\n",
    "from sklearn.model_selection import train_test_split\n",
    "from sklearn.naive_bayes import GaussianNB\n",
    "from sklearn.neighbors import KNeighborsClassifier\n",
    "from sklearn.svm import SVC\n",
    "from sklearn.tree import DecisionTreeClassifier\n",
    "\n",
    "warnings.filterwarnings('ignore')"
   ]
  },
  {
   "cell_type": "markdown",
   "source": [
    "Reading cses4_cut.csv and splitting to train and test set using sklearn"
   ],
   "metadata": {
    "collapsed": false,
    "pycharm": {
     "name": "#%% md\n"
    }
   }
  },
  {
   "cell_type": "code",
   "execution_count": 68,
   "metadata": {
    "_cell_guid": "e604c7aa-3f21-4b8c-867c-11defcd16a19",
    "_uuid": "cc36f113dcfbedc1ef1fe8b16c8a047c862e65bd"
   },
   "outputs": [
    {
     "name": "stdout",
     "output_type": "stream",
     "text": [
      "   Unnamed: 0  D2002  D2003  D2004  D2005  D2006  D2007  D2008  D2009  D2010  \\\n",
      "0           0      1      4      4      2      2      9      9      9      1   \n",
      "1           1      2      3      1      2      2      9      9      9      8   \n",
      "2           2      2      2      1      2      2      9      9      9      7   \n",
      "3           4      2      4      4      2      2      9      9      9      5   \n",
      "4           5      1      6      4      1      1      9      9      9      1   \n",
      "\n",
      "   ...  D2024  D2025  D2026  D2027  D2028  D2029  D2030  D2031  age  voted  \n",
      "0  ...      9      9   8300    121      8    999    999      4   31   True  \n",
      "1  ...      6      9   1101    121     12    999    999      4   42   True  \n",
      "2  ...      5      9   1101    121      2    999    999      4   67   True  \n",
      "3  ...      9      9   8300    121      2    999    999      4   26  False  \n",
      "4  ...      1      9   1101    121      2    999    999      4   55   True  \n",
      "\n",
      "[5 rows x 33 columns]\n"
     ]
    }
   ],
   "source": [
    "df = pd.read_csv('cses4_cut.csv')\n",
    "\n",
    "X = df.iloc[:, :-1]\n",
    "y = df.iloc[:, -1]\n",
    "\n",
    "X_train, X_test, y_train, y_test = train_test_split(X, y, test_size=0.20, random_state=97)\n",
    "\n",
    "print(df.head())"
   ]
  },
  {
   "cell_type": "markdown",
   "metadata": {
    "_cell_guid": "4924f1fe-d239-4448-bd92-938b5bb5da24",
    "_uuid": "f0389d93abd38470fa4799aaadc72cf40719d166"
   },
   "source": [
    "## Classifiers without reduction\n",
    "\n",
    "cross_validation parameter is defined here in order to avoid repeat in cv=... in future code. Therefore, the code is DRY."
   ]
  },
  {
   "cell_type": "code",
   "execution_count": 69,
   "outputs": [],
   "source": [
    "cross_validation = ShuffleSplit(n_splits=5, test_size=0.2, random_state=0)"
   ],
   "metadata": {
    "collapsed": false,
    "pycharm": {
     "name": "#%%\n"
    }
   }
  },
  {
   "cell_type": "markdown",
   "source": [
    "#### Logistic Regression"
   ],
   "metadata": {
    "collapsed": false,
    "pycharm": {
     "name": "#%% md\n"
    }
   }
  },
  {
   "cell_type": "code",
   "execution_count": 70,
   "metadata": {
    "_cell_guid": "465c7d81-cd4d-4115-bb53-4e4da8986d45",
    "_uuid": "c0c19976e39ff94d607d76db807d15efd7827c0f"
   },
   "outputs": [],
   "source": [
    "logistic_regression = LogisticRegression()\n",
    "logistic_regression_accuracy = cross_val_score(logistic_regression, X, y, cv=cross_validation).mean()"
   ]
  },
  {
   "cell_type": "markdown",
   "source": [
    "#### Decision Tree"
   ],
   "metadata": {
    "collapsed": false,
    "pycharm": {
     "name": "#%% md\n"
    }
   }
  },
  {
   "cell_type": "code",
   "execution_count": 71,
   "outputs": [],
   "source": [
    "decision_tree = DecisionTreeClassifier()\n",
    "decision_tree_accuracy = cross_val_score(decision_tree, X, y, cv=cross_validation).mean()"
   ],
   "metadata": {
    "collapsed": false,
    "pycharm": {
     "name": "#%%\n"
    }
   }
  },
  {
   "cell_type": "markdown",
   "source": [
    "#### Support Vector Machine"
   ],
   "metadata": {
    "collapsed": false,
    "pycharm": {
     "name": "#%% md\n"
    }
   }
  },
  {
   "cell_type": "code",
   "execution_count": null,
   "outputs": [],
   "source": [
    "support_vector_machine = SVC(probability=True)\n",
    "support_vector_machine_accuracy = cross_val_score(support_vector_machine, X, y, cv=cross_validation).mean()"
   ],
   "metadata": {
    "collapsed": false,
    "pycharm": {
     "name": "#%%\n",
     "is_executing": true
    }
   }
  },
  {
   "cell_type": "markdown",
   "source": [
    "#### Linear Discriminant Analysis"
   ],
   "metadata": {
    "collapsed": false,
    "pycharm": {
     "name": "#%% md\n"
    }
   }
  },
  {
   "cell_type": "code",
   "execution_count": null,
   "outputs": [],
   "source": [
    "linear_discriminant_analysis = LinearDiscriminantAnalysis()\n",
    "linear_discriminant_analysis_accuracy = cross_val_score(linear_discriminant_analysis, X, y, cv=cross_validation).mean()"
   ],
   "metadata": {
    "collapsed": false,
    "pycharm": {
     "name": "#%%\n",
     "is_executing": true
    }
   }
  },
  {
   "cell_type": "markdown",
   "source": [
    "#### Quadratic Discriminant Analysis"
   ],
   "metadata": {
    "collapsed": false,
    "pycharm": {
     "name": "#%% md\n"
    }
   }
  },
  {
   "cell_type": "code",
   "execution_count": null,
   "outputs": [],
   "source": [
    "quadratic_discriminant_analysis = QuadraticDiscriminantAnalysis()\n",
    "quadratic_discriminant_analysis_accuracy = cross_val_score(quadratic_discriminant_analysis, X, y,\n",
    "                                                           cv=cross_validation).mean()"
   ],
   "metadata": {
    "collapsed": false,
    "pycharm": {
     "name": "#%%\n",
     "is_executing": true
    }
   }
  },
  {
   "cell_type": "markdown",
   "source": [
    "#### Random Forest Classifier"
   ],
   "metadata": {
    "collapsed": false,
    "pycharm": {
     "name": "#%% md\n"
    }
   }
  },
  {
   "cell_type": "code",
   "execution_count": null,
   "outputs": [],
   "source": [
    "random_forest = RandomForestClassifier()\n",
    "random_forest_accuracy = cross_val_score(random_forest, X, y, cv=cross_validation).mean()"
   ],
   "metadata": {
    "collapsed": false,
    "pycharm": {
     "name": "#%%\n",
     "is_executing": true
    }
   }
  },
  {
   "cell_type": "markdown",
   "source": [
    "#### K-Nearest Neighbors"
   ],
   "metadata": {
    "collapsed": false,
    "pycharm": {
     "name": "#%% md\n"
    }
   }
  },
  {
   "cell_type": "code",
   "execution_count": null,
   "outputs": [],
   "source": [
    "k_neighbors_classifier = KNeighborsClassifier()\n",
    "k_neighbors_classifier_accuracy = cross_val_score(k_neighbors_classifier, X, y, cv=cross_validation).mean()"
   ],
   "metadata": {
    "collapsed": false,
    "pycharm": {
     "name": "#%%\n",
     "is_executing": true
    }
   }
  },
  {
   "cell_type": "markdown",
   "source": [
    "#### Naive Bayes"
   ],
   "metadata": {
    "collapsed": false,
    "pycharm": {
     "name": "#%% md\n"
    }
   }
  },
  {
   "cell_type": "code",
   "execution_count": null,
   "outputs": [],
   "source": [
    "naive_bayes = GaussianNB()\n",
    "naive_bayes_accuracy = cross_val_score(naive_bayes, X, y, cv=cross_validation).mean()"
   ],
   "metadata": {
    "collapsed": false,
    "pycharm": {
     "name": "#%%\n",
     "is_executing": true
    }
   }
  },
  {
   "cell_type": "code",
   "execution_count": null,
   "outputs": [],
   "source": [
    "pd.options.display.float_format = '{:,.2f}%'.format\n",
    "accuracies1 = pd.DataFrame({\n",
    "    'Model': ['Logistic Regression', 'Decision Tree', 'Support Vector Machine', 'Linear Discriminant Analysis',\n",
    "              'Quadratic Discriminant Analysis', 'Random Forest', 'K-Nearest Neighbors', 'Bayes'],\n",
    "    'Accuracy': [100 * logistic_regression_accuracy, 100 * decision_tree_accuracy,\n",
    "                 100 * support_vector_machine_accuracy, 100 * linear_discriminant_analysis_accuracy,\n",
    "                 100 * quadratic_discriminant_analysis_accuracy, 100 * random_forest_accuracy,\n",
    "                 100 * k_neighbors_classifier_accuracy, 100 * naive_bayes_accuracy],\n",
    "}, columns=['Model', 'Accuracy'])\n",
    "\n",
    "print(accuracies1.sort_values(by='Accuracy', ascending=False))"
   ],
   "metadata": {
    "collapsed": false,
    "pycharm": {
     "name": "#%%\n",
     "is_executing": true
    }
   }
  },
  {
   "cell_type": "markdown",
   "metadata": {
    "_cell_guid": "60a9a307-33a6-486b-9e61-efef5410d62e",
    "_uuid": "282f2c7ffc64f9f790bddda8d9fca2cdd4958347"
   },
   "source": [
    "## Feature selection and Dimensionality-reduction\n",
    "\n",
    "Select features according to the k the highest scores. Here I choose the 12 highest features.\n"
   ]
  },
  {
   "cell_type": "code",
   "execution_count": null,
   "metadata": {
    "pycharm": {
     "is_executing": true
    }
   },
   "outputs": [],
   "source": [
    "test = SelectKBest(score_func=chi2, k='all')\n",
    "fit = test.fit(X, y)\n",
    "k_scores = fit.scores_\n",
    "X_after_feature_selection = test.fit_transform(X, y)\n",
    "\n",
    "# Features in descending order by score\n",
    "dicts = {}\n",
    "dicts = dict(zip(df.columns, k_scores))\n",
    "sort_dicts = sorted(dicts.items(), key=lambda x: x[1], reverse=True)\n",
    "\n",
    "sort_dicts[:12]"
   ]
  },
  {
   "cell_type": "markdown",
   "source": [
    "new table after dimensionality-reduction which includes 12 features with the highest scores"
   ],
   "metadata": {
    "collapsed": false,
    "pycharm": {
     "name": "#%% md\n"
    }
   }
  },
  {
   "cell_type": "code",
   "execution_count": null,
   "metadata": {
    "pycharm": {
     "is_executing": true
    }
   },
   "outputs": [],
   "source": [
    "X_after_feature_selection = df[\n",
    "    ['D2011', 'D2015', 'D2016', 'D2021', 'D2022', 'D2023', 'D2026', 'D2027', 'D2028', 'D2029', 'D2030', 'age']]\n",
    "\n",
    "print(X_after_feature_selection)"
   ]
  },
  {
   "cell_type": "markdown",
   "source": [
    "data distribution of new table"
   ],
   "metadata": {
    "collapsed": false,
    "pycharm": {
     "name": "#%% md\n"
    }
   }
  },
  {
   "cell_type": "code",
   "execution_count": null,
   "metadata": {
    "pycharm": {
     "is_executing": true
    }
   },
   "outputs": [],
   "source": [
    "plt.figure(figsize=(20, 15))\n",
    "plot_number = 1\n",
    "\n",
    "for column in X_after_feature_selection:\n",
    "    if plot_number <= 12:\n",
    "        ax = plt.subplot(5, 6, plot_number)\n",
    "        sns.distplot(X_after_feature_selection[column])\n",
    "        plt.xlabel(column)\n",
    "\n",
    "    plot_number += 1\n",
    "\n",
    "plt.tight_layout()\n",
    "plt.show()"
   ]
  },
  {
   "cell_type": "markdown",
   "source": [
    "Data distribution of new table is not Gaussian which is not suitable for the models. Therefore, I will make pre-processing and transform it in Gaussian form"
   ],
   "metadata": {
    "collapsed": false,
    "pycharm": {
     "name": "#%% md\n"
    }
   }
  },
  {
   "cell_type": "code",
   "execution_count": null,
   "metadata": {
    "pycharm": {
     "is_executing": true
    }
   },
   "outputs": [],
   "source": [
    "quantile_transformer = preprocessing.QuantileTransformer(random_state=0)\n",
    "X_new_trans = quantile_transformer.fit_transform(X_after_feature_selection)"
   ]
  },
  {
   "cell_type": "code",
   "execution_count": null,
   "metadata": {
    "pycharm": {
     "is_executing": true
    }
   },
   "outputs": [],
   "source": [
    "plt.figure(figsize=(20, 15))\n",
    "plot_number = 1\n",
    "\n",
    "for column in range(X_new_trans.shape[1]):\n",
    "    if plot_number <= 30:\n",
    "        ax = plt.subplot(5, 6, plot_number)\n",
    "        sns.distplot(X_new_trans[column])\n",
    "        plt.xlabel(column)\n",
    "\n",
    "    plot_number += 1\n",
    "\n",
    "plt.tight_layout()\n",
    "plt.show()"
   ]
  },
  {
   "cell_type": "markdown",
   "metadata": {
    "_cell_guid": "fdb23edd-4513-4cc6-9ba9-c01538bb63d1",
    "_uuid": "bf1e913b94b55381ff0a8f72afef4a7c598dd10a"
   },
   "source": [
    "## Classifiers with dimensionality-reduction and pre-processing"
   ]
  },
  {
   "cell_type": "markdown",
   "source": [
    "#### Logistic Regression"
   ],
   "metadata": {
    "collapsed": false
   }
  },
  {
   "cell_type": "code",
   "execution_count": null,
   "outputs": [],
   "source": [
    "logistic_regression = LogisticRegression()\n",
    "logistic_regression_accuracy = cross_val_score(logistic_regression, X, y, cv=cross_validation).mean()"
   ],
   "metadata": {
    "collapsed": false,
    "pycharm": {
     "name": "#%%\n",
     "is_executing": true
    }
   }
  },
  {
   "cell_type": "markdown",
   "source": [
    "#### Decision Tree"
   ],
   "metadata": {
    "collapsed": false
   }
  },
  {
   "cell_type": "code",
   "execution_count": null,
   "outputs": [],
   "source": [
    "decision_tree = DecisionTreeClassifier()\n",
    "decision_tree_accuracy = cross_val_score(decision_tree, X, y, cv=cross_validation).mean()"
   ],
   "metadata": {
    "collapsed": false,
    "pycharm": {
     "name": "#%%\n",
     "is_executing": true
    }
   }
  },
  {
   "cell_type": "markdown",
   "source": [
    "#### Support Vector Machine"
   ],
   "metadata": {
    "collapsed": false
   }
  },
  {
   "cell_type": "code",
   "execution_count": null,
   "outputs": [],
   "source": [
    "support_vector_machine = SVC(probability=True)\n",
    "support_vector_machine_accuracy = cross_val_score(support_vector_machine, X, y, cv=cross_validation).mean()"
   ],
   "metadata": {
    "collapsed": false,
    "pycharm": {
     "name": "#%%\n",
     "is_executing": true
    }
   }
  },
  {
   "cell_type": "markdown",
   "source": [
    "#### Linear Discriminant Analysis"
   ],
   "metadata": {
    "collapsed": false
   }
  },
  {
   "cell_type": "code",
   "execution_count": null,
   "outputs": [],
   "source": [
    "linear_discriminant_analysis = LinearDiscriminantAnalysis()\n",
    "linear_discriminant_analysis_accuracy = cross_val_score(linear_discriminant_analysis, X, y, cv=cross_validation).mean()"
   ],
   "metadata": {
    "collapsed": false,
    "pycharm": {
     "name": "#%%\n",
     "is_executing": true
    }
   }
  },
  {
   "cell_type": "markdown",
   "source": [
    "#### Quadratic Discriminant Analysis"
   ],
   "metadata": {
    "collapsed": false
   }
  },
  {
   "cell_type": "code",
   "execution_count": null,
   "outputs": [],
   "source": [
    "quadratic_discriminant_analysis = QuadraticDiscriminantAnalysis()\n",
    "quadratic_discriminant_analysis_accuracy = cross_val_score(quadratic_discriminant_analysis, X, y,\n",
    "                                                           cv=cross_validation).mean()"
   ],
   "metadata": {
    "collapsed": false,
    "pycharm": {
     "name": "#%%\n",
     "is_executing": true
    }
   }
  },
  {
   "cell_type": "markdown",
   "source": [
    "#### Random Forest Classifier"
   ],
   "metadata": {
    "collapsed": false
   }
  },
  {
   "cell_type": "code",
   "execution_count": null,
   "outputs": [],
   "source": [
    "random_forest = RandomForestClassifier()\n",
    "random_forest_accuracy = cross_val_score(random_forest, X, y, cv=cross_validation).mean()"
   ],
   "metadata": {
    "collapsed": false,
    "pycharm": {
     "name": "#%%\n",
     "is_executing": true
    }
   }
  },
  {
   "cell_type": "markdown",
   "source": [
    "#### K-Nearest Neighbors"
   ],
   "metadata": {
    "collapsed": false
   }
  },
  {
   "cell_type": "code",
   "execution_count": null,
   "outputs": [],
   "source": [
    "k_neighbors_classifier = KNeighborsClassifier()\n",
    "k_neighbors_classifier_accuracy = cross_val_score(k_neighbors_classifier, X, y, cv=cross_validation).mean()"
   ],
   "metadata": {
    "collapsed": false,
    "pycharm": {
     "name": "#%%\n",
     "is_executing": true
    }
   }
  },
  {
   "cell_type": "markdown",
   "source": [
    "#### Naive Bayes"
   ],
   "metadata": {
    "collapsed": false
   }
  },
  {
   "cell_type": "code",
   "execution_count": null,
   "outputs": [],
   "source": [
    "naive_bayes = GaussianNB()\n",
    "naive_bayes_accuracy = cross_val_score(naive_bayes, X, y, cv=cross_validation).mean()"
   ],
   "metadata": {
    "collapsed": false,
    "pycharm": {
     "name": "#%%\n",
     "is_executing": true
    }
   }
  },
  {
   "cell_type": "code",
   "execution_count": null,
   "outputs": [],
   "source": [
    "pd.options.display.float_format = '{:,.2f}%'.format\n",
    "accuracies2 = pd.DataFrame({\n",
    "    'Model': ['Logistic Regression', 'Decision Tree', 'Support Vector Machine', 'Linear Discriminant Analysis',\n",
    "              'Quadratic Discriminant Analysis', 'Random Forest', 'K-Nearest Neighbors', 'Bayes'],\n",
    "    'Accuracy': [100 * logistic_regression_accuracy, 100 * decision_tree_accuracy,\n",
    "                 100 * support_vector_machine_accuracy, 100 * linear_discriminant_analysis_accuracy,\n",
    "                 100 * quadratic_discriminant_analysis_accuracy, 100 * random_forest_accuracy,\n",
    "                 100 * k_neighbors_classifier_accuracy, 100 * naive_bayes_accuracy],\n",
    "}, columns=['Model', 'Accuracy'])\n",
    "\n",
    "accuracies2.sort_values(by='Accuracy', ascending=False)"
   ],
   "metadata": {
    "collapsed": false,
    "pycharm": {
     "name": "#%%\n",
     "is_executing": true
    }
   }
  },
  {
   "cell_type": "markdown",
   "metadata": {},
   "source": [
    "## Hyper parameter Tuning\n",
    "At first, I tried grid search method. However, since the result is not as good, I continued with for loops."
   ]
  },
  {
   "cell_type": "markdown",
   "source": [
    "## Grid search"
   ],
   "metadata": {
    "collapsed": false,
    "pycharm": {
     "name": "#%% md\n"
    }
   }
  },
  {
   "cell_type": "code",
   "execution_count": null,
   "outputs": [],
   "source": [
    "seed = 42\n",
    "grid = {\"C\": np.logspace(-3, 3, 7)\n",
    "    , \"penalty\": [\"l1\", \"l2\"]\n",
    "    , \"verbose\": [1, 5, 10]}  # l1 lasso l2 ridge\n",
    "\n",
    "log_reg = LogisticRegression()\n",
    "log_reg_cv = GridSearchCV(log_reg, grid, cv=10)  ## n_jobs=10 parallel processing\n",
    "log_reg_cv.fit(X_train, y_train)\n",
    "best_parameters = log_reg_cv.best_params_\n",
    "\n",
    "clf = LogisticRegression(C=log_reg_cv.best_params_['C']\n",
    "                         , penalty=log_reg_cv.best_params_['penalty']\n",
    "                         , random_state=42).fit(X, y)\n",
    "\n",
    "# Setting regularization parameter: The alpha parameter controls the degree of sparsity of the estimated coefficients\n",
    "\n",
    "pred = clf.predict(X_test)\n",
    "clf.predict_proba(X_test)\n",
    "clf.score(X_test, y_test)"
   ],
   "metadata": {
    "collapsed": false,
    "pycharm": {
     "name": "#%%\n",
     "is_executing": true
    }
   }
  },
  {
   "cell_type": "markdown",
   "source": [
    "## Tuning with for loop"
   ],
   "metadata": {
    "collapsed": false,
    "pycharm": {
     "name": "#%% md\n"
    }
   }
  },
  {
   "cell_type": "markdown",
   "source": [
    "#### Random Forest Classifier"
   ],
   "metadata": {
    "collapsed": false,
    "pycharm": {
     "name": "#%% md\n"
    }
   }
  },
  {
   "cell_type": "code",
   "execution_count": null,
   "outputs": [],
   "source": [
    "best_score = 0\n",
    "n_estimators = [100, 200, 500, 1000]\n",
    "criterions = ['gini', 'entropy']\n",
    "for i in n_estimators:\n",
    "    for k in criterions:\n",
    "        random_forest = RandomForestClassifier(n_estimators=i, criterion=k)\n",
    "        random_forest_accuracy = cross_val_score(random_forest, X_new_trans, y, cv=cross_validation).mean()\n",
    "        if random_forest_accuracy > best_score:\n",
    "            best_score = random_forest_accuracy\n",
    "            best_est = i\n",
    "            best_cri = k\n",
    "random_forest_accuracy = best_score\n",
    "print(\"Best score is:\", best_score, \"with estimator:\", best_est, \"criterion:\", best_cri)"
   ],
   "metadata": {
    "collapsed": false,
    "pycharm": {
     "name": "#%%\n",
     "is_executing": true
    }
   }
  },
  {
   "cell_type": "markdown",
   "source": [
    "#### Linear Discriminant Analysis"
   ],
   "metadata": {
    "collapsed": false,
    "pycharm": {
     "name": "#%% md\n"
    }
   }
  },
  {
   "cell_type": "code",
   "execution_count": null,
   "outputs": [],
   "source": [
    "best_score = 0\n",
    "solver = ['svd', 'lsqr', 'eigen']\n",
    "for i in solver:\n",
    "    linear_discriminant_analysis = LinearDiscriminantAnalysis(solver=i)\n",
    "    linear_discriminant_analysis_accuracy = cross_val_score(linear_discriminant_analysis, X_new_trans, y,\n",
    "                                                            cv=cross_validation).mean()\n",
    "    if linear_discriminant_analysis_accuracy > best_score:\n",
    "        best_score = linear_discriminant_analysis_accuracy\n",
    "        best_solver = i\n",
    "linear_discriminant_analysis_accuracy = best_score\n",
    "print(\"Best score is:\", best_score, \"with solver:\", best_solver)"
   ],
   "metadata": {
    "collapsed": false,
    "pycharm": {
     "name": "#%%\n",
     "is_executing": true
    }
   }
  },
  {
   "cell_type": "markdown",
   "source": [
    "#### Logistic Regression"
   ],
   "metadata": {
    "collapsed": false,
    "pycharm": {
     "name": "#%% md\n"
    }
   }
  },
  {
   "cell_type": "code",
   "execution_count": null,
   "outputs": [],
   "source": [
    "best_score = 0\n",
    "penalty = ['l1', 'l2', 'elasticnet', 'none']\n",
    "for i in penalty:\n",
    "    logistic_regression = LogisticRegression(penalty=i)\n",
    "    logistic_regression_accuracy = cross_val_score(logistic_regression, X_new_trans, y, cv=cross_validation).mean()\n",
    "    if logistic_regression_accuracy > best_score:\n",
    "        best_score = logistic_regression_accuracy\n",
    "        best_p = i\n",
    "logistic_regression_accuracy = best_score\n",
    "print(\"Best score is:\", best_score, \"with penalty\", best_p)"
   ],
   "metadata": {
    "collapsed": false,
    "pycharm": {
     "name": "#%%\n",
     "is_executing": true
    }
   }
  },
  {
   "cell_type": "markdown",
   "source": [
    "#### K-Nearest Neighbors"
   ],
   "metadata": {
    "collapsed": false,
    "pycharm": {
     "name": "#%% md\n"
    }
   }
  },
  {
   "cell_type": "code",
   "execution_count": null,
   "outputs": [],
   "source": [
    "best_score = 0\n",
    "for i in range(2, 10):\n",
    "    k_neighbors_classifier = KNeighborsClassifier(n_neighbors=i)\n",
    "    k_neighbors_classifier_accuracy = cross_val_score(k_neighbors_classifier, X_new_trans, y,\n",
    "                                                      cv=cross_validation).mean()\n",
    "    if k_neighbors_classifier_accuracy > best_score:\n",
    "        best_score = k_neighbors_classifier_accuracy\n",
    "        best_n = i\n",
    "k_neighbors_classifier_accuracy = best_score\n",
    "print(\"Best score is:\", best_score, \"with number of neighbors:\", best_n)"
   ],
   "metadata": {
    "collapsed": false,
    "pycharm": {
     "name": "#%%\n",
     "is_executing": true
    }
   }
  },
  {
   "cell_type": "markdown",
   "source": [
    "#### Support Vector Machine"
   ],
   "metadata": {
    "collapsed": false,
    "pycharm": {
     "name": "#%% md\n"
    }
   }
  },
  {
   "cell_type": "code",
   "execution_count": null,
   "outputs": [],
   "source": [
    "best_score = 0\n",
    "clist = [0.1, 1, 2, 5]\n",
    "kernel = ['linear', 'poly', 'rbf', 'sigmoid', 'precomputed2']\n",
    "for i in clist:\n",
    "    for k in kernel:\n",
    "        support_vector_machine = SVC(C=i, kernel=k)\n",
    "        support_vector_machine_accuracy = cross_val_score(support_vector_machine, X_new_trans, y,\n",
    "                                                          cv=cross_validation).mean()\n",
    "        if support_vector_machine_accuracy > best_score:\n",
    "            best_score = support_vector_machine_accuracy\n",
    "            best_c = i\n",
    "            best_k = k\n",
    "support_vector_machine_accuracy = best_score\n",
    "print(\"Best score is:\", best_score, \"with c:\", best_c, \"kernel:\", k)"
   ],
   "metadata": {
    "collapsed": false,
    "pycharm": {
     "name": "#%%\n",
     "is_executing": true
    }
   }
  },
  {
   "cell_type": "code",
   "execution_count": null,
   "metadata": {
    "pycharm": {
     "is_executing": true
    }
   },
   "outputs": [],
   "source": [
    "pd.options.display.float_format = '{:,.2f}%'.format\n",
    "accuracies3 = pd.DataFrame({\n",
    "    'Model': ['Logistic Regression', 'Support Vector Machine', 'Linear Discriminant Analysis', 'Random Forest',\n",
    "              'K-Nearest Neighbors', ],\n",
    "    'Accuracy': [100 * logistic_regression_accuracy, 100 * support_vector_machine_accuracy,\n",
    "                 100 * linear_discriminant_analysis_accuracy, 100 * random_forest_accuracy,\n",
    "                 100 * k_neighbors_classifier_accuracy],\n",
    "}, columns=['Model', 'Accuracy'])\n",
    "\n",
    "accuracies3.sort_values(by='Accuracy', ascending=False)"
   ]
  },
  {
   "cell_type": "markdown",
   "metadata": {},
   "source": [
    "# FINAL RESULTS"
   ]
  },
  {
   "cell_type": "code",
   "execution_count": null,
   "metadata": {
    "pycharm": {
     "name": "#%%\n",
     "is_executing": true
    }
   },
   "outputs": [],
   "source": [
    "print(\"Classifiers without reduction:\")\n",
    "print(accuracies1.sort_values(by='Accuracy', ascending=False))\n",
    "print(\"Classifiers with dimensionality-reduction and pre-processing:\")\n",
    "print(accuracies2.sort_values(by='Accuracy', ascending=False))\n",
    "print(\"After optimizing the model and its hyper parameters:\")\n",
    "print(accuracies3.sort_values(by='Accuracy', ascending=False))"
   ]
  }
 ],
 "metadata": {
  "kernelspec": {
   "name": "python3",
   "language": "python",
   "display_name": "Python 3"
  },
  "language_info": {
   "codemirror_mode": {
    "name": "ipython",
    "version": 3
   },
   "file_extension": ".py",
   "mimetype": "text/x-python",
   "name": "python",
   "nbconvert_exporter": "python",
   "pygments_lexer": "ipython3",
   "version": "3.8.8"
  }
 },
 "nbformat": 4,
 "nbformat_minor": 4
}