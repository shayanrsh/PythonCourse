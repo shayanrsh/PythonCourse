{
 "cells": [
  {
   "cell_type": "markdown",
   "id": "fe7b2ce1",
   "metadata": {},
   "source": [
    "# Linear regression for the CalCOFI dataset.\n",
    "In this exercise using a public data set called *CalCOFI* on kaggle website, we are investigating whether there is a relationship between Water temperature and Salinity (in g of salt per kg of water (g/kg)). \n",
    "The linear model will predict the Salinity given the Water temperature.\n",
    "Full dataset is available on Kaggle:\n",
    "\n",
    "https://www.kaggle.com/sohier/calcofi?select=bottle.csv"
   ]
  },
  {
   "cell_type": "code",
   "execution_count": 1,
   "id": "42e82e88",
   "metadata": {
    "pycharm": {
     "is_executing": true
    }
   },
   "outputs": [],
   "source": [
    "import pandas as pd\n",
    "import kaggle\n",
    "from linear_regression import *"
   ]
  },
  {
   "cell_type": "markdown",
   "id": "b3c56f65",
   "metadata": {},
   "source": [
    "In order to use Kaggle API, we should do the following steps:\n",
    "1. pip install kaggle\n",
    "2. API credentials --> To get kaggle.json file go to: https://www.kaggle.com/username/account\n",
    "3. Put the .json file in the following directory: C:\\users\\username\\\\.kaggle\n",
    "3. download the data set with following commands\n",
    "\n",
    "This will return a True, which mean the data set is downloaded and is located in data folder in the same directory as the source code. Now we can use the data set"
   ]
  },
  {
   "cell_type": "code",
   "execution_count": 2,
   "id": "70faa9be",
   "metadata": {},
   "outputs": [],
   "source": [
    "# kaggle.api.authenticate()\n",
    "# kaggle.api.dataset_download_file('sohier/calcofi', file_name='bottle.csv',  path='data/')"
   ]
  },
  {
   "cell_type": "markdown",
   "id": "0f039f8c",
   "metadata": {},
   "source": [
    "Since the *CalCOFI* is a huge data set (269 MB), I have modified the CSV to just the 2 columns needed for this exercize. Therefore, I could upload the file to GitHub. Furthermore, I have only used the first 1000 data in here for a better runtime and presentation."
   ]
  },
  {
   "cell_type": "code",
   "execution_count": 3,
   "id": "cbd32435",
   "metadata": {},
   "outputs": [
    {
     "name": "stdout",
     "output_type": "stream",
     "text": [
      "   T_degC  Salnty\n",
      "0   10.50  33.440\n",
      "1   10.46  33.440\n",
      "2   10.46  33.437\n",
      "3   10.45  33.420\n",
      "4   10.45  33.421\n"
     ]
    },
    {
     "data": {
      "image/png": "[encoded data removed]",
      "text/plain": [
       "<Figure size 432x288 with 1 Axes>"
      ]
     },
     "metadata": {
      "needs_background": "light"
     },
     "output_type": "display_data"
    },
    {
     "ename": "ValueError",
     "evalue": "all the input arrays must have same number of dimensions, but the array at index 0 has 2 dimension(s) and the array at index 1 has 1 dimension(s)",
     "output_type": "error",
     "traceback": [
      "\u001b[1;31m---------------------------------------------------------------------------\u001b[0m",
      "\u001b[1;31mValueError\u001b[0m                                Traceback (most recent call last)",
      "\u001b[1;32m~\\AppData\\Local\\Temp/ipykernel_4956/3069901674.py\u001b[0m in \u001b[0;36m<module>\u001b[1;34m\u001b[0m\n\u001b[1;32m----> 1\u001b[1;33m \u001b[0mlinear_regression\u001b[0m\u001b[1;33m(\u001b[0m\u001b[0mdata_set\u001b[0m\u001b[1;33m=\u001b[0m\u001b[1;34m'bottle.csv'\u001b[0m\u001b[1;33m)\u001b[0m\u001b[1;33m\u001b[0m\u001b[1;33m\u001b[0m\u001b[0m\n\u001b[0m",
      "\u001b[1;32m~\\Documents\\Shayan Docs\\Koc Uni\\Semester 1\\Advance Data Analysis Python\\HW\\PythonCourse\\HW\\HW2\\linear_regression.py\u001b[0m in \u001b[0;36mlinear_regression\u001b[1;34m(x, y, data_set)\u001b[0m\n\u001b[0;32m     34\u001b[0m     \u001b[1;31m# Adding 1 to the X matrix for the intercept\u001b[0m\u001b[1;33m\u001b[0m\u001b[1;33m\u001b[0m\u001b[0m\n\u001b[0;32m     35\u001b[0m     \u001b[0mone_column\u001b[0m \u001b[1;33m=\u001b[0m \u001b[0mnp\u001b[0m\u001b[1;33m.\u001b[0m\u001b[0mones\u001b[0m\u001b[1;33m(\u001b[0m\u001b[1;33m(\u001b[0m\u001b[0mX\u001b[0m\u001b[1;33m.\u001b[0m\u001b[0mshape\u001b[0m\u001b[1;33m[\u001b[0m\u001b[1;36m0\u001b[0m\u001b[1;33m]\u001b[0m\u001b[1;33m,\u001b[0m \u001b[1;36m1\u001b[0m\u001b[1;33m)\u001b[0m\u001b[1;33m)\u001b[0m\u001b[1;33m\u001b[0m\u001b[1;33m\u001b[0m\u001b[0m\n\u001b[1;32m---> 36\u001b[1;33m     \u001b[0mX\u001b[0m \u001b[1;33m=\u001b[0m \u001b[0mnp\u001b[0m\u001b[1;33m.\u001b[0m\u001b[0mconcatenate\u001b[0m\u001b[1;33m(\u001b[0m\u001b[1;33m(\u001b[0m\u001b[0mone_column\u001b[0m\u001b[1;33m,\u001b[0m \u001b[0mX\u001b[0m\u001b[1;33m)\u001b[0m\u001b[1;33m,\u001b[0m \u001b[0maxis\u001b[0m\u001b[1;33m=\u001b[0m\u001b[1;36m1\u001b[0m\u001b[1;33m)\u001b[0m\u001b[1;33m\u001b[0m\u001b[1;33m\u001b[0m\u001b[0m\n\u001b[0m\u001b[0;32m     37\u001b[0m \u001b[1;33m\u001b[0m\u001b[0m\n\u001b[0;32m     38\u001b[0m     \u001b[1;31m# Beta\u001b[0m\u001b[1;33m\u001b[0m\u001b[1;33m\u001b[0m\u001b[0m\n",
      "\u001b[1;32m<__array_function__ internals>\u001b[0m in \u001b[0;36mconcatenate\u001b[1;34m(*args, **kwargs)\u001b[0m\n",
      "\u001b[1;31mValueError\u001b[0m: all the input arrays must have same number of dimensions, but the array at index 0 has 2 dimension(s) and the array at index 1 has 1 dimension(s)"
     ]
    }
   ],
   "source": [
    "linear_regression(data_set='bottle.csv')"
   ]
  },
  {
   "cell_type": "code",
   "execution_count": null,
   "id": "1a1891d5",
   "metadata": {},
   "outputs": [],
   "source": []
  }
 ],
 "metadata": {
  "kernelspec": {
   "display_name": "Python 3 (ipykernel)",
   "language": "python",
   "name": "python3"
  },
  "language_info": {
   "codemirror_mode": {
    "name": "ipython",
    "version": 3
   },
   "file_extension": ".py",
   "mimetype": "text/x-python",
   "name": "python",
   "nbconvert_exporter": "python",
   "pygments_lexer": "ipython3",
   "version": "3.9.7"
  }
 },
 "nbformat": 4,
 "nbformat_minor": 5
}
